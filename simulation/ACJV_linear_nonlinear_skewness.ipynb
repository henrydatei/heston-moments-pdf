{
 "cells": [
  {
   "cell_type": "code",
   "execution_count": 32,
   "metadata": {},
   "outputs": [],
   "source": [
    "import pandas as pd\n",
    "import numpy as np\n",
    "\n",
    "np.random.seed(0)\n",
    "\n",
    "def skewness(x3, var):\n",
    "    return x3 + var # a dummy implementation, linear\n",
    "    # return x3 / var**(3/2) # a real implementation, non-linear"
   ]
  },
  {
   "cell_type": "code",
   "execution_count": 18,
   "metadata": {},
   "outputs": [],
   "source": [
    "start_date = '2014-07-01'\n",
    "end_date = '2014-07-05'\n",
    "date_range = pd.date_range(start=start_date, end=end_date, freq='D')\n",
    "time_range = pd.date_range(start='09:35', end='16:05', freq='5min')[:-1]  # Trading hours making it actually end at 16:00\n",
    "\n",
    "# Create a full DatetimeIndex for all trading days and intraday times\n",
    "datetime_index = pd.DatetimeIndex([pd.Timestamp(f'{day.date()} {time.time()}') for day in date_range for time in time_range])"
   ]
  },
  {
   "cell_type": "code",
   "execution_count": 19,
   "metadata": {},
   "outputs": [
    {
     "data": {
      "text/html": [
       "<div>\n",
       "<style scoped>\n",
       "    .dataframe tbody tr th:only-of-type {\n",
       "        vertical-align: middle;\n",
       "    }\n",
       "\n",
       "    .dataframe tbody tr th {\n",
       "        vertical-align: top;\n",
       "    }\n",
       "\n",
       "    .dataframe thead th {\n",
       "        text-align: right;\n",
       "    }\n",
       "</style>\n",
       "<table border=\"1\" class=\"dataframe\">\n",
       "  <thead>\n",
       "    <tr style=\"text-align: right;\">\n",
       "      <th></th>\n",
       "      <th>r</th>\n",
       "    </tr>\n",
       "  </thead>\n",
       "  <tbody>\n",
       "    <tr>\n",
       "      <th>2014-07-01 09:35:00</th>\n",
       "      <td>0.917539</td>\n",
       "    </tr>\n",
       "    <tr>\n",
       "      <th>2014-07-01 09:40:00</th>\n",
       "      <td>0.757734</td>\n",
       "    </tr>\n",
       "    <tr>\n",
       "      <th>2014-07-01 09:45:00</th>\n",
       "      <td>0.061301</td>\n",
       "    </tr>\n",
       "    <tr>\n",
       "      <th>2014-07-01 09:50:00</th>\n",
       "      <td>0.572633</td>\n",
       "    </tr>\n",
       "    <tr>\n",
       "      <th>2014-07-01 09:55:00</th>\n",
       "      <td>0.567441</td>\n",
       "    </tr>\n",
       "    <tr>\n",
       "      <th>...</th>\n",
       "      <td>...</td>\n",
       "    </tr>\n",
       "    <tr>\n",
       "      <th>2014-07-05 15:40:00</th>\n",
       "      <td>0.909558</td>\n",
       "    </tr>\n",
       "    <tr>\n",
       "      <th>2014-07-05 15:45:00</th>\n",
       "      <td>0.236564</td>\n",
       "    </tr>\n",
       "    <tr>\n",
       "      <th>2014-07-05 15:50:00</th>\n",
       "      <td>0.213707</td>\n",
       "    </tr>\n",
       "    <tr>\n",
       "      <th>2014-07-05 15:55:00</th>\n",
       "      <td>0.762233</td>\n",
       "    </tr>\n",
       "    <tr>\n",
       "      <th>2014-07-05 16:00:00</th>\n",
       "      <td>0.486374</td>\n",
       "    </tr>\n",
       "  </tbody>\n",
       "</table>\n",
       "<p>390 rows × 1 columns</p>\n",
       "</div>"
      ],
      "text/plain": [
       "                            r\n",
       "2014-07-01 09:35:00  0.917539\n",
       "2014-07-01 09:40:00  0.757734\n",
       "2014-07-01 09:45:00  0.061301\n",
       "2014-07-01 09:50:00  0.572633\n",
       "2014-07-01 09:55:00  0.567441\n",
       "...                       ...\n",
       "2014-07-05 15:40:00  0.909558\n",
       "2014-07-05 15:45:00  0.236564\n",
       "2014-07-05 15:50:00  0.213707\n",
       "2014-07-05 15:55:00  0.762233\n",
       "2014-07-05 16:00:00  0.486374\n",
       "\n",
       "[390 rows x 1 columns]"
      ]
     },
     "execution_count": 19,
     "metadata": {},
     "output_type": "execute_result"
    }
   ],
   "source": [
    "r = pd.DataFrame(np.random.uniform(0,1,78*5), columns=['r'], index = datetime_index)\n",
    "r"
   ]
  },
  {
   "cell_type": "code",
   "execution_count": 28,
   "metadata": {},
   "outputs": [],
   "source": [
    "# squared returns\n",
    "r['var'] = r['r']**2\n",
    "\n",
    "# cubed returns\n",
    "r['x^3'] = r['r']**3"
   ]
  },
  {
   "cell_type": "code",
   "execution_count": 33,
   "metadata": {},
   "outputs": [
    {
     "data": {
      "text/html": [
       "<div>\n",
       "<style scoped>\n",
       "    .dataframe tbody tr th:only-of-type {\n",
       "        vertical-align: middle;\n",
       "    }\n",
       "\n",
       "    .dataframe tbody tr th {\n",
       "        vertical-align: top;\n",
       "    }\n",
       "\n",
       "    .dataframe thead th {\n",
       "        text-align: right;\n",
       "    }\n",
       "</style>\n",
       "<table border=\"1\" class=\"dataframe\">\n",
       "  <thead>\n",
       "    <tr style=\"text-align: right;\">\n",
       "      <th></th>\n",
       "      <th>var</th>\n",
       "      <th>x^3</th>\n",
       "      <th>skewness</th>\n",
       "    </tr>\n",
       "  </thead>\n",
       "  <tbody>\n",
       "    <tr>\n",
       "      <th>2014-07-01</th>\n",
       "      <td>24.700981</td>\n",
       "      <td>18.243747</td>\n",
       "      <td>42.944728</td>\n",
       "    </tr>\n",
       "    <tr>\n",
       "      <th>2014-07-02</th>\n",
       "      <td>28.337612</td>\n",
       "      <td>22.436945</td>\n",
       "      <td>50.774557</td>\n",
       "    </tr>\n",
       "    <tr>\n",
       "      <th>2014-07-03</th>\n",
       "      <td>27.040325</td>\n",
       "      <td>20.841155</td>\n",
       "      <td>47.881479</td>\n",
       "    </tr>\n",
       "    <tr>\n",
       "      <th>2014-07-04</th>\n",
       "      <td>27.065629</td>\n",
       "      <td>20.109071</td>\n",
       "      <td>47.174700</td>\n",
       "    </tr>\n",
       "    <tr>\n",
       "      <th>2014-07-05</th>\n",
       "      <td>24.843222</td>\n",
       "      <td>18.323709</td>\n",
       "      <td>43.166932</td>\n",
       "    </tr>\n",
       "  </tbody>\n",
       "</table>\n",
       "</div>"
      ],
      "text/plain": [
       "                  var        x^3   skewness\n",
       "2014-07-01  24.700981  18.243747  42.944728\n",
       "2014-07-02  28.337612  22.436945  50.774557\n",
       "2014-07-03  27.040325  20.841155  47.881479\n",
       "2014-07-04  27.065629  20.109071  47.174700\n",
       "2014-07-05  24.843222  18.323709  43.166932"
      ]
     },
     "execution_count": 33,
     "metadata": {},
     "output_type": "execute_result"
    }
   ],
   "source": [
    "# daily aggration\n",
    "daily_r = r.resample('D').agg({'var': 'sum', 'x^3': 'sum'})\n",
    "daily_r['skewness'] = skewness(daily_r['x^3'], daily_r['var'])\n",
    "daily_r"
   ]
  },
  {
   "cell_type": "code",
   "execution_count": 34,
   "metadata": {},
   "outputs": [
    {
     "name": "stdout",
     "output_type": "stream",
     "text": [
      "94.44328327969556 94.44328327969556\n"
     ]
    }
   ],
   "source": [
    "# 2nd + 3rd aggregated moment\n",
    "second_moment = daily_r['var'].rolling(2).sum().dropna().mean()\n",
    "third_moment = daily_r['x^3'].rolling(2).sum().dropna().mean()\n",
    "\n",
    "# skewness\n",
    "skewness_1 = skewness(third_moment, second_moment)\n",
    "\n",
    "# skewness aggregation\n",
    "skewness_2 = daily_r['skewness'].rolling(2).sum().dropna().mean()\n",
    "print(skewness_1, skewness_2)\n"
   ]
  },
  {
   "cell_type": "code",
   "execution_count": null,
   "metadata": {},
   "outputs": [],
   "source": []
  }
 ],
 "metadata": {
  "kernelspec": {
   "display_name": "Python 3",
   "language": "python",
   "name": "python3"
  },
  "language_info": {
   "codemirror_mode": {
    "name": "ipython",
    "version": 3
   },
   "file_extension": ".py",
   "mimetype": "text/x-python",
   "name": "python",
   "nbconvert_exporter": "python",
   "pygments_lexer": "ipython3",
   "version": "3.11.2"
  }
 },
 "nbformat": 4,
 "nbformat_minor": 2
}

{
 "cells": [
  {
   "cell_type": "code",
   "execution_count": 3,
   "metadata": {},
   "outputs": [],
   "source": [
    "import sqlite3\n",
    "import matplotlib.pyplot as plt\n",
    "\n",
    "conn = sqlite3.connect('../simulations.db')\n",
    "c = conn.cursor()"
   ]
  },
  {
   "cell_type": "code",
   "execution_count": null,
   "metadata": {},
   "outputs": [],
   "source": [
    "# Distribution of max_number_of_same_prices\n",
    "c.execute('SELECT max_number_of_same_prices, COUNT(*) FROM simulations GROUP BY max_number_of_same_prices')\n",
    "rows = c.fetchall()\n",
    "max_number_of_same_prices = [row[0] for row in rows]\n",
    "count = [row[1] for row in rows]"
   ]
  },
  {
   "cell_type": "code",
   "execution_count": null,
   "metadata": {},
   "outputs": [],
   "source": [
    "print(max_number_of_same_prices)\n",
    "print(count)"
   ]
  },
  {
   "cell_type": "code",
   "execution_count": null,
   "metadata": {},
   "outputs": [],
   "source": [
    "# Plot\n",
    "max_number_of_same_prices_2 = max_number_of_same_prices\n",
    "count_2 = count\n",
    "plt.scatter(max_number_of_same_prices_2, count_2)\n",
    "# logaritmic scale\n",
    "plt.yscale('log')\n",
    "plt.xlabel('Max number of same prices')\n",
    "plt.ylabel('Count')\n",
    "plt.title('Distribution of max number of same prices')\n",
    "plt.show()"
   ]
  },
  {
   "cell_type": "code",
   "execution_count": 16,
   "metadata": {},
   "outputs": [],
   "source": [
    "# Histogram of max_number_of_same_prices\n",
    "max_number_of_same_prices = [row[0] for row in c.execute('SELECT max_number_of_same_prices FROM simulations')]"
   ]
  },
  {
   "cell_type": "code",
   "execution_count": null,
   "metadata": {},
   "outputs": [],
   "source": [
    "plt.hist(max_number_of_same_prices)\n",
    "plt.xlabel('Max number of same prices')\n",
    "plt.ylabel('Count')\n",
    "plt.title('Histogram of max number of same prices')\n",
    "plt.show()"
   ]
  },
  {
   "cell_type": "code",
   "execution_count": null,
   "metadata": {},
   "outputs": [],
   "source": [
    "# How many simulations have max_number_of_same_prices = 1 compared to the total number of simulations\n",
    "c.execute('SELECT COUNT(*) FROM simulations WHERE max_number_of_same_prices = 1')\n",
    "count = c.fetchone()[0]\n",
    "total = c.execute('SELECT COUNT(*) FROM simulations').fetchone()[0]\n",
    "print(count / total)"
   ]
  },
  {
   "cell_type": "code",
   "execution_count": 21,
   "metadata": {},
   "outputs": [],
   "source": [
    "query = \"\"\"\n",
    "SELECT sigma,\n",
    "       AVG(CASE WHEN max_number_of_same_prices = 1 THEN 1.0 ELSE 0 END) AS ratio\n",
    "FROM simulations\n",
    "GROUP BY sigma\n",
    "ORDER BY sigma;\n",
    "\"\"\"\n",
    "c.execute(query)\n",
    "ratio_sigma = c.fetchall()\n",
    "sigmas = [row[0] for row in ratio_sigma]\n",
    "ratios_sigma = [row[1] for row in ratio_sigma]"
   ]
  },
  {
   "cell_type": "code",
   "execution_count": null,
   "metadata": {},
   "outputs": [],
   "source": [
    "plt.bar(sigmas, ratios_sigma, width=0.04, align='center', edgecolor='black')\n",
    "selected_ticks = sigmas[::2]\n",
    "selected_labels = [f\"{sigma:.2f}\" for sigma in selected_ticks]\n",
    "plt.xticks(selected_ticks, selected_labels)\n",
    "plt.xlabel('Sigma')\n",
    "plt.ylabel('max_number_of_same_prices = 1 / total in group')\n",
    "plt.show()"
   ]
  },
  {
   "cell_type": "code",
   "execution_count": 23,
   "metadata": {},
   "outputs": [],
   "source": [
    "query = \"\"\"\n",
    "SELECT mu,\n",
    "       AVG(CASE WHEN max_number_of_same_prices = 1 THEN 1.0 ELSE 0 END) AS ratio\n",
    "FROM simulations\n",
    "GROUP BY mu\n",
    "ORDER BY mu;\n",
    "\"\"\"\n",
    "c.execute(query)\n",
    "ratio_mu = c.fetchall()\n",
    "mus = [row[0] for row in ratio_mu]\n",
    "ratios_mu = [row[1] for row in ratio_mu]"
   ]
  },
  {
   "cell_type": "code",
   "execution_count": null,
   "metadata": {},
   "outputs": [],
   "source": [
    "plt.bar(mus, ratios_mu, width=0.04, align='center', edgecolor='black')\n",
    "plt.xticks(mus, [f\"{mu:.2f}\" for mu in mus])\n",
    "plt.xlabel('Mu')\n",
    "plt.ylabel('max_number_of_same_prices = 1 / total in group')\n",
    "plt.show()"
   ]
  },
  {
   "cell_type": "code",
   "execution_count": 29,
   "metadata": {},
   "outputs": [],
   "source": [
    "query = \"\"\"\n",
    "SELECT theta,\n",
    "       AVG(CASE WHEN max_number_of_same_prices = 1 THEN 1.0 ELSE 0 END) AS ratio\n",
    "FROM simulations\n",
    "GROUP BY theta\n",
    "ORDER BY theta;\n",
    "\"\"\"\n",
    "c.execute(query)\n",
    "ratio_theta = c.fetchall()\n",
    "thetas = [row[0] for row in ratio_theta]\n",
    "ratios_theta = [row[1] for row in ratio_theta]"
   ]
  },
  {
   "cell_type": "code",
   "execution_count": null,
   "metadata": {},
   "outputs": [],
   "source": [
    "plt.bar(thetas, ratios_theta, width=0.04, align='center', edgecolor='black')\n",
    "selected_ticks = thetas[::2]\n",
    "selected_labels = [f\"{theta:.2f}\" for theta in selected_ticks]\n",
    "plt.xticks(selected_ticks, selected_labels)\n",
    "plt.xlabel('Theta')\n",
    "plt.ylabel('max_number_of_same_prices = 1 / total in group')\n",
    "plt.show()"
   ]
  },
  {
   "cell_type": "code",
   "execution_count": 31,
   "metadata": {},
   "outputs": [],
   "source": [
    "query = \"\"\"\n",
    "SELECT kappa,\n",
    "       AVG(CASE WHEN max_number_of_same_prices = 1 THEN 1.0 ELSE 0 END) AS ratio\n",
    "FROM simulations\n",
    "GROUP BY kappa\n",
    "ORDER BY kappa;\n",
    "\"\"\"\n",
    "c.execute(query)\n",
    "ratio_kappa = c.fetchall()\n",
    "kappas = [row[0] for row in ratio_kappa]\n",
    "ratios_kappa = [row[1] for row in ratio_kappa]"
   ]
  },
  {
   "cell_type": "code",
   "execution_count": null,
   "metadata": {},
   "outputs": [],
   "source": [
    "plt.bar(kappas, ratios_kappa, width=0.04, align='center', edgecolor='black')\n",
    "plt.xticks(kappas, [f\"{kappa:.2f}\" for kappa in kappas])\n",
    "plt.xlabel('Kappa')\n",
    "plt.ylabel('max_number_of_same_prices = 1 / total in group')\n",
    "plt.show()"
   ]
  },
  {
   "cell_type": "code",
   "execution_count": 34,
   "metadata": {},
   "outputs": [],
   "source": [
    "query = \"\"\"\n",
    "SELECT rho,\n",
    "       AVG(CASE WHEN max_number_of_same_prices = 1 THEN 1.0 ELSE 0 END) AS ratio\n",
    "FROM simulations\n",
    "GROUP BY rho\n",
    "ORDER BY rho;\n",
    "\"\"\"\n",
    "c.execute(query)\n",
    "ratio_rho = c.fetchall()\n",
    "rhos = [row[0] for row in ratio_rho]\n",
    "ratios_rho = [row[1] for row in ratio_rho]"
   ]
  },
  {
   "cell_type": "code",
   "execution_count": null,
   "metadata": {},
   "outputs": [],
   "source": [
    "plt.bar(rhos, ratios_rho, width=0.04, align='center', edgecolor='black')\n",
    "selected_ticks = rhos[::2]\n",
    "selected_labels = [f\"{rho:.2f}\" for rho in selected_ticks]\n",
    "plt.xticks(selected_ticks, selected_labels)\n",
    "plt.xlabel('Rho')\n",
    "plt.ylabel('max_number_of_same_prices = 1 / total in group')\n",
    "plt.show()"
   ]
  },
  {
   "cell_type": "code",
   "execution_count": 36,
   "metadata": {},
   "outputs": [],
   "source": [
    "query = \"\"\"\n",
    "SELECT v0,\n",
    "       AVG(CASE WHEN max_number_of_same_prices = 1 THEN 1.0 ELSE 0 END) AS ratio\n",
    "FROM simulations\n",
    "GROUP BY v0\n",
    "ORDER BY v0;\n",
    "\"\"\"\n",
    "c.execute(query)\n",
    "ratio_v0 = c.fetchall()\n",
    "v0s = [row[0] for row in ratio_v0]\n",
    "ratios_v0 = [row[1] for row in ratio_v0]"
   ]
  },
  {
   "cell_type": "code",
   "execution_count": null,
   "metadata": {},
   "outputs": [],
   "source": [
    "plt.bar(v0s, ratios_v0, width=0.04, align='center', edgecolor='black')\n",
    "selected_ticks = v0s[::2]\n",
    "selected_labels = [f\"{v0:.2f}\" for v0 in selected_ticks]\n",
    "plt.xticks(selected_ticks, selected_labels)\n",
    "plt.xlabel('v0')\n",
    "plt.ylabel('max_number_of_same_prices = 1 / total in group')\n",
    "plt.show()"
   ]
  },
  {
   "cell_type": "code",
   "execution_count": 38,
   "metadata": {},
   "outputs": [],
   "source": [
    "query = \"\"\"\n",
    "SELECT (2.0 * kappa * theta - sigma * sigma) AS feller_diff,\n",
    "       AVG(CASE WHEN max_number_of_same_prices = 1 THEN 1.0 ELSE 0 END) AS ratio\n",
    "FROM simulations\n",
    "GROUP BY feller_diff\n",
    "ORDER BY feller_diff;\n",
    "\"\"\"\n",
    "c.execute(query)\n",
    "results_feller_diff = c.fetchall()\n",
    "feller_diffs = [row[0] for row in results_feller_diff]\n",
    "ratios_feller_diff = [row[1] for row in results_feller_diff]"
   ]
  },
  {
   "cell_type": "code",
   "execution_count": null,
   "metadata": {},
   "outputs": [],
   "source": [
    "plt.scatter(feller_diffs, ratios_feller_diff)\n",
    "plt.xlabel('2*kappa*theta - sigma^2 (Distance to Feller condition)')\n",
    "plt.ylabel('max_number_of_same_prices = 1 / total in group')\n",
    "plt.show()"
   ]
  },
  {
   "cell_type": "code",
   "execution_count": 70,
   "metadata": {},
   "outputs": [],
   "source": [
    "def plot_p_value(variant, plot_title, max_number_of_same_prices=None):\n",
    "    query = f\"SELECT {variant}_p FROM simulations WHERE {variant}_p IS NOT NULL AND {variant}_stat IS NOT NULL\"\n",
    "    if max_number_of_same_prices:\n",
    "        query += f\" AND max_number_of_same_prices < {max_number_of_same_prices}\"\n",
    "    c.execute(query)\n",
    "    results = c.fetchall()\n",
    "    p_values = [row[0] for row in results]\n",
    "\n",
    "    plt.hist(p_values, bins=30, edgecolor='black')\n",
    "    plt.xlabel('p-value')\n",
    "    plt.ylabel('Count')\n",
    "    plt.title(plot_title)\n",
    "    plt.show()"
   ]
  },
  {
   "cell_type": "code",
   "execution_count": null,
   "metadata": {},
   "outputs": [],
   "source": [
    "plot_p_value('GC_cum_KS', 'p-values Gram-Charlier with Cumulants and KS-Test')"
   ]
  },
  {
   "cell_type": "code",
   "execution_count": null,
   "metadata": {},
   "outputs": [],
   "source": [
    "plot_p_value('GC_cum_KS', 'p-values Gram-Charlier with Cumulants and KS-Test without invalid sims', 10)"
   ]
  },
  {
   "cell_type": "code",
   "execution_count": null,
   "metadata": {},
   "outputs": [],
   "source": [
    "plot_p_value('GC_mom_KS', 'p-values Gram-Charlier with Moments and KS-Test')"
   ]
  },
  {
   "cell_type": "code",
   "execution_count": null,
   "metadata": {},
   "outputs": [],
   "source": [
    "plot_p_value('GC_pos_cum_KS', 'p-values Positivity Gram-Charlier with Cumulants and KS-Test')"
   ]
  },
  {
   "cell_type": "code",
   "execution_count": null,
   "metadata": {},
   "outputs": [],
   "source": [
    "plot_p_value('GC_pos_mom_KS', 'p-values Positivity Gram-Charlier with Moments and KS-Test')"
   ]
  },
  {
   "cell_type": "code",
   "execution_count": null,
   "metadata": {},
   "outputs": [],
   "source": [
    "plot_p_value('EW_cum_KS', 'p-values Edgeworth with Cumulants and KS-Test')"
   ]
  },
  {
   "cell_type": "code",
   "execution_count": null,
   "metadata": {},
   "outputs": [],
   "source": [
    "plot_p_value('EW_mom_KS', 'p-values Edgeworth with Moments and KS-Test')"
   ]
  },
  {
   "cell_type": "code",
   "execution_count": null,
   "metadata": {},
   "outputs": [],
   "source": [
    "plot_p_value('EW_pos_cum_KS', 'p-values Positivity Edgeworth with Cumulants and KS-Test')"
   ]
  },
  {
   "cell_type": "code",
   "execution_count": null,
   "metadata": {},
   "outputs": [],
   "source": [
    "plot_p_value('EW_pos_mom_KS', 'p-values Positivity Edgeworth with Moments and KS-Test')"
   ]
  },
  {
   "cell_type": "code",
   "execution_count": null,
   "metadata": {},
   "outputs": [],
   "source": [
    "plot_p_value('CF_cum_KS', 'p-values Cornish-Fisher with Cumulants and KS-Test')"
   ]
  },
  {
   "cell_type": "code",
   "execution_count": null,
   "metadata": {},
   "outputs": [],
   "source": [
    "plot_p_value('CF_mom_KS', 'p-values Cornish-Fisher with Moments and KS-Test')"
   ]
  },
  {
   "cell_type": "code",
   "execution_count": null,
   "metadata": {},
   "outputs": [],
   "source": [
    "plot_p_value('SP_cum_KS', 'p-values Saddlepoint with Cumulants and KS-Test')"
   ]
  },
  {
   "cell_type": "code",
   "execution_count": null,
   "metadata": {},
   "outputs": [],
   "source": [
    "plot_p_value('SP_mom_KS', 'p-values Saddlepoint with Moments and KS-Test')"
   ]
  },
  {
   "cell_type": "code",
   "execution_count": 81,
   "metadata": {},
   "outputs": [],
   "source": [
    "def plot_2d_p_value(variant, dim1, dim2, plot_title, max_number_of_same_prices=None):\n",
    "    if max_number_of_same_prices:\n",
    "        query = f\"\"\"\n",
    "        SELECT {dim1}, \n",
    "            {dim2}, \n",
    "            AVG(CASE WHEN GC_cum_KS_p > 0.05 THEN 1.0 ELSE 0 END) AS ratio\n",
    "        FROM simulations\n",
    "        WHERE {variant}_p IS NOT NULL AND {variant}_stat IS NOT NULL AND max_number_of_same_prices < {max_number_of_same_prices}\n",
    "        GROUP BY {dim1}, {dim2}\n",
    "        ORDER BY {dim1}, {dim2};\n",
    "        \"\"\"\n",
    "    else:\n",
    "        query = f\"\"\"\n",
    "        SELECT {dim1}, \n",
    "            {dim2}, \n",
    "            AVG(CASE WHEN GC_cum_KS_p > 0.05 THEN 1.0 ELSE 0 END) AS ratio\n",
    "        FROM simulations\n",
    "        WHERE {variant}_p IS NOT NULL AND {variant}_stat IS NOT NULL\n",
    "        GROUP BY {dim1}, {dim2}\n",
    "        ORDER BY {dim1}, {dim2};\n",
    "        \"\"\"\n",
    "    c.execute(query)\n",
    "    data = c.fetchall()\n",
    "\n",
    "    # Extrahiere die Werte\n",
    "    dim1s = [row[0] for row in data]\n",
    "    dim2s = [row[1] for row in data]\n",
    "    ratios = [row[2] for row in data]\n",
    "\n",
    "    # Erstelle den Scatterplot\n",
    "    sc = plt.scatter(dim1s, dim2s, c=ratios, cmap='viridis', s=100, edgecolors='black')\n",
    "    plt.xlabel(dim1)\n",
    "    plt.ylabel(dim2)\n",
    "    plt.title(plot_title)\n",
    "    plt.colorbar(sc, label='Ratio p-value > 5%')\n",
    "    plt.show()"
   ]
  },
  {
   "cell_type": "code",
   "execution_count": null,
   "metadata": {},
   "outputs": [],
   "source": [
    "plot_2d_p_value('GC_cum_KS', 'sigma', 'kappa', 'Ratio of Simulations with KS-Test p-value > 5% and Gram-Charlier Cumulants', 10)"
   ]
  },
  {
   "cell_type": "code",
   "execution_count": null,
   "metadata": {},
   "outputs": [],
   "source": [
    "plot_2d_p_value('GC_cum_KS', 'sigma', 'theta', 'Ratio of Simulations with KS-Test p-value > 5% and Gram-Charlier Cumulants', 10)"
   ]
  },
  {
   "cell_type": "code",
   "execution_count": null,
   "metadata": {},
   "outputs": [],
   "source": [
    "plot_2d_p_value('GC_cum_KS', 'sigma', 'rho', 'Ratio of Simulations with KS-Test p-value > 5% and Gram-Charlier Cumulants', 10)"
   ]
  },
  {
   "cell_type": "code",
   "execution_count": null,
   "metadata": {},
   "outputs": [],
   "source": [
    "plot_2d_p_value('GC_cum_KS', 'sigma', 'v0', 'Ratio of Simulations with KS-Test p-value > 5% and Gram-Charlier Cumulants', 10)"
   ]
  },
  {
   "cell_type": "code",
   "execution_count": null,
   "metadata": {},
   "outputs": [],
   "source": [
    "plot_2d_p_value('GC_cum_KS', 'sigma', 'mu', 'Ratio of Simulations with KS-Test p-value > 5% and Gram-Charlier Cumulants', 10)"
   ]
  },
  {
   "cell_type": "code",
   "execution_count": null,
   "metadata": {},
   "outputs": [],
   "source": [
    "plot_2d_p_value('GC_cum_KS', 'kappa', 'theta', 'Ratio of Simulations with KS-Test p-value > 5% and Gram-Charlier Cumulants', 10)"
   ]
  },
  {
   "cell_type": "code",
   "execution_count": null,
   "metadata": {},
   "outputs": [],
   "source": [
    "plot_2d_p_value('GC_cum_KS', 'kappa', 'rho', 'Ratio of Simulations with KS-Test p-value > 5% and Gram-Charlier Cumulants', 10)"
   ]
  },
  {
   "cell_type": "code",
   "execution_count": null,
   "metadata": {},
   "outputs": [],
   "source": [
    "plot_2d_p_value('GC_cum_KS', 'kappa', 'v0', 'Ratio of Simulations with KS-Test p-value > 5% and Gram-Charlier Cumulants', 10)"
   ]
  },
  {
   "cell_type": "code",
   "execution_count": null,
   "metadata": {},
   "outputs": [],
   "source": [
    "plot_2d_p_value('GC_cum_KS', 'theta', 'rho', 'Ratio of Simulations with KS-Test p-value > 5% and Gram-Charlier Cumulants', 10)"
   ]
  },
  {
   "cell_type": "code",
   "execution_count": null,
   "metadata": {},
   "outputs": [],
   "source": [
    "plot_2d_p_value('GC_cum_KS', 'theta', 'v0', 'Ratio of Simulations with KS-Test p-value > 5% and Gram-Charlier Cumulants', 10)"
   ]
  }
 ],
 "metadata": {
  "kernelspec": {
   "display_name": "Python 3",
   "language": "python",
   "name": "python3"
  },
  "language_info": {
   "codemirror_mode": {
    "name": "ipython",
    "version": 3
   },
   "file_extension": ".py",
   "mimetype": "text/x-python",
   "name": "python",
   "nbconvert_exporter": "python",
   "pygments_lexer": "ipython3",
   "version": "3.11.2"
  }
 },
 "nbformat": 4,
 "nbformat_minor": 2
}

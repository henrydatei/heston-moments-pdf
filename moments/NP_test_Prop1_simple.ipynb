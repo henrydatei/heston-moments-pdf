{
 "cells": [
  {
   "cell_type": "code",
   "execution_count": 2,
   "metadata": {},
   "outputs": [],
   "source": [
    "import numpy as np"
   ]
  },
  {
   "cell_type": "code",
   "execution_count": 46,
   "metadata": {},
   "outputs": [
    {
     "name": "stdout",
     "output_type": "stream",
     "text": [
      "[ 4 10 18]\n",
      "[0 1 2 3]\n",
      "[0 1 2]\n"
     ]
    }
   ],
   "source": [
    "a = np.array([1,2,3])\n",
    "b = np.array([4,5,6])\n",
    "print(a*b)\n",
    "a = np.insert(a, 0, 0)\n",
    "print(a)\n",
    "a = np.roll(a, 1)[1:]\n",
    "print(a)"
   ]
  },
  {
   "cell_type": "code",
   "execution_count": 3,
   "metadata": {},
   "outputs": [
    {
     "data": {
      "text/plain": [
       "[2, 2]"
      ]
     },
     "execution_count": 3,
     "metadata": {},
     "output_type": "execute_result"
    }
   ],
   "source": [
    "prices = np.array([1,2,3,4])\n",
    "T = 2\n",
    "total_days = len(prices)\n",
    "[prices[i] - prices[i-T] for i in range(T, total_days)]"
   ]
  },
  {
   "cell_type": "code",
   "execution_count": 4,
   "metadata": {},
   "outputs": [
    {
     "data": {
      "text/plain": [
       "array([0.25])"
      ]
     },
     "execution_count": 4,
     "metadata": {},
     "output_type": "execute_result"
    }
   ],
   "source": [
    "prices = np.array([1,1.05,1.1,1.15,1.20,1.25,1.30])\n",
    "daily_changes = np.diff(prices)\n",
    "T = 5\n",
    "total_days = 6\n",
    "monthly_changes = np.array([prices[i] - prices[i-T] for i in range(T, total_days)])\n",
    "monthly_changes"
   ]
  },
  {
   "cell_type": "code",
   "execution_count": 54,
   "metadata": {},
   "outputs": [
    {
     "name": "stdout",
     "output_type": "stream",
     "text": [
      "[1, 1.05, 1.1500000000000001, 1.3000000000000003, 1.5000000000000002]\n",
      "[0.05 0.1  0.15 0.2 ]\n",
      "[0.3]\n"
     ]
    }
   ],
   "source": [
    "total_days = 4\n",
    "T = 3\n",
    "daily_returns = [0.05*i for i in range(1, total_days+1)]\n",
    "prices = [1]\n",
    "for daily_return in daily_returns:\n",
    "    prices.append(prices[-1] + daily_return)\n",
    "print(prices)\n",
    "daily_changes = np.diff(prices)\n",
    "print(daily_changes)\n",
    "monthly_changes = np.array([prices[i] - prices[i-T] for i in range(T, total_days)])\n",
    "print(monthly_changes)"
   ]
  },
  {
   "cell_type": "code",
   "execution_count": 30,
   "metadata": {},
   "outputs": [
    {
     "name": "stdout",
     "output_type": "stream",
     "text": [
      "[0.09000000000000016, 0.20250000000000018]\n",
      "[0.09   0.2025]\n"
     ]
    }
   ],
   "source": [
    "decomposed_D2_t = []\n",
    "for t in range(T, total_days):\n",
    "    sum1 = 0\n",
    "    sum2 = 0\n",
    "    for u in range(0, T):\n",
    "        sum1 += daily_changes[t-u-1]**2\n",
    "        sum2 += (prices[t-u-1] - prices[t-T]) * daily_changes[t-u-1]\n",
    "    decomposed_D2_t.append(sum1 + 2*sum2)\n",
    "print(decomposed_D2_t)\n",
    "print(monthly_changes**2)"
   ]
  },
  {
   "cell_type": "code",
   "execution_count": 31,
   "metadata": {},
   "outputs": [
    {
     "name": "stdout",
     "output_type": "stream",
     "text": [
      "[0.027000000000000073, 0.0911250000000001]\n",
      "[0.027    0.091125]\n"
     ]
    }
   ],
   "source": [
    "decomposed_D3_t = []\n",
    "for t in range(T, total_days):\n",
    "    sum1 = 0\n",
    "    sum2 = 0\n",
    "    sum3 = 0\n",
    "    for u in range(0, T):\n",
    "        sum1 += daily_changes[t-u-1]**3\n",
    "        sum2 += (prices[t-u-1] - prices[t-T]) * daily_changes[t-u-1]**2\n",
    "        sum3 += (prices[t-u-1] - prices[t-T])**2 * daily_changes[t-u-1]\n",
    "    decomposed_D3_t.append(sum1 + 3*sum2 + 3*sum3)\n",
    "print(decomposed_D3_t)\n",
    "print(monthly_changes**3)"
   ]
  },
  {
   "cell_type": "code",
   "execution_count": 32,
   "metadata": {},
   "outputs": [
    {
     "name": "stdout",
     "output_type": "stream",
     "text": [
      "[0.008100000000000029, 0.041006250000000063]\n",
      "[0.0081     0.04100625]\n"
     ]
    }
   ],
   "source": [
    "decomposed_D4_t = []\n",
    "for t in range(T, total_days):\n",
    "    sum1 = 0\n",
    "    sum2 = 0\n",
    "    sum3 = 0\n",
    "    sum4 = 0\n",
    "    for u in range(0, T):\n",
    "        sum1 += daily_changes[t-u-1]**4\n",
    "        sum2 += (prices[t-u-1] - prices[t-T]) * daily_changes[t-u-1]**3\n",
    "        sum3 += (prices[t-u-1] - prices[t-T])**2 * daily_changes[t-u-1]**2\n",
    "        sum4 += (prices[t-u-1] - prices[t-T])**3 * daily_changes[t-u-1]\n",
    "    decomposed_D4_t.append(sum1 + 4*sum2 + 6*sum3 + 4*sum4)\n",
    "print(decomposed_D4_t)\n",
    "print(monthly_changes**4)"
   ]
  },
  {
   "cell_type": "code",
   "execution_count": 58,
   "metadata": {},
   "outputs": [],
   "source": [
    "def y_1_star_t(prices, t, T):\n",
    "    if t <= T:\n",
    "        # we yesterdays return with the return of the last month (last T days)\n",
    "        return 0\n",
    "    sum = 0\n",
    "    for u in range(1,T+1):\n",
    "        sum += prices[t-1] - prices[t-u]\n",
    "    return sum / T\n",
    "\n",
    "def y_1_star(prices, T):\n",
    "    array = []\n",
    "    for t in range(len(prices)):\n",
    "        array.append(y_1_star_t(prices, t, T))\n",
    "    return array[1:]\n",
    "\n",
    "def y_2_star_t(prices, t, T):\n",
    "    if t <= T:\n",
    "        # we yesterdays return with the return of the last month (last T days)\n",
    "        return 0\n",
    "    sum = 0\n",
    "    for u in range(1,T+1):\n",
    "        sum += (prices[t-1] - prices[t-u])**2\n",
    "    return sum / T\n",
    "\n",
    "def y_2_star(prices, T):\n",
    "    array = []\n",
    "    for t in range(len(prices)):\n",
    "        array.append(y_2_star_t(prices, t, T))\n",
    "    return array[1:]"
   ]
  },
  {
   "cell_type": "code",
   "execution_count": 59,
   "metadata": {},
   "outputs": [
    {
     "name": "stdout",
     "output_type": "stream",
     "text": [
      "[0, 0, 0, 0.13333333333333344]\n",
      "[0, 0, 0, 0.028333333333333387]\n"
     ]
    }
   ],
   "source": [
    "y_1star = y_1_star(prices, T)\n",
    "y_2star = y_2_star(prices, T)\n",
    "print(y_1star)\n",
    "print(y_2star)"
   ]
  },
  {
   "cell_type": "code",
   "execution_count": 49,
   "metadata": {},
   "outputs": [
    {
     "name": "stdout",
     "output_type": "stream",
     "text": [
      "0.14625000000000016 0.08250000000000002\n"
     ]
    }
   ],
   "source": [
    "print(np.mean(monthly_changes**2), T * np.mean(daily_changes**2))"
   ]
  },
  {
   "cell_type": "code",
   "execution_count": 50,
   "metadata": {},
   "outputs": [
    {
     "name": "stdout",
     "output_type": "stream",
     "text": [
      "0.05906250000000009 0.04710000000000001\n"
     ]
    }
   ],
   "source": [
    "print(np.mean(monthly_changes**3), T * np.mean(daily_changes**3) + 3*T*np.mean(daily_changes**2 * y_1star))"
   ]
  },
  {
   "cell_type": "code",
   "execution_count": 51,
   "metadata": {},
   "outputs": [
    {
     "name": "stdout",
     "output_type": "stream",
     "text": [
      "0.024553125000000047 0.02937375000000001\n"
     ]
    }
   ],
   "source": [
    "print(np.mean(monthly_changes**4), T*np.mean(daily_changes**4) + 4*T*np.mean(daily_changes**3 * y_1star) + 6*T*np.mean(daily_changes**2 * y_2star))"
   ]
  }
 ],
 "metadata": {
  "kernelspec": {
   "display_name": "Python 3",
   "language": "python",
   "name": "python3"
  },
  "language_info": {
   "codemirror_mode": {
    "name": "ipython",
    "version": 3
   },
   "file_extension": ".py",
   "mimetype": "text/x-python",
   "name": "python",
   "nbconvert_exporter": "python",
   "pygments_lexer": "ipython3",
   "version": "3.12.2"
  }
 },
 "nbformat": 4,
 "nbformat_minor": 2
}

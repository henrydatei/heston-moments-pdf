{
 "cells": [
  {
   "cell_type": "code",
   "execution_count": 1,
   "metadata": {},
   "outputs": [],
   "source": [
    "import numpy as np"
   ]
  },
  {
   "cell_type": "code",
   "execution_count": 2,
   "metadata": {},
   "outputs": [
    {
     "data": {
      "text/plain": [
       "array([ 4, 10, 18])"
      ]
     },
     "execution_count": 2,
     "metadata": {},
     "output_type": "execute_result"
    }
   ],
   "source": [
    "a = np.array([1,2,3])\n",
    "b = np.array([4,5,6])\n",
    "a*b"
   ]
  },
  {
   "cell_type": "code",
   "execution_count": 3,
   "metadata": {},
   "outputs": [
    {
     "data": {
      "text/plain": [
       "[2, 2]"
      ]
     },
     "execution_count": 3,
     "metadata": {},
     "output_type": "execute_result"
    }
   ],
   "source": [
    "prices = np.array([1,2,3,4])\n",
    "T = 2\n",
    "total_days = len(prices)\n",
    "[prices[i] - prices[i-T] for i in range(T, total_days)]"
   ]
  },
  {
   "cell_type": "code",
   "execution_count": 4,
   "metadata": {},
   "outputs": [
    {
     "data": {
      "text/plain": [
       "array([0.25])"
      ]
     },
     "execution_count": 4,
     "metadata": {},
     "output_type": "execute_result"
    }
   ],
   "source": [
    "prices = np.array([1,1.05,1.1,1.15,1.20,1.25,1.30])\n",
    "daily_changes = np.diff(prices)\n",
    "T = 5\n",
    "total_days = 6\n",
    "monthly_changes = np.array([prices[i] - prices[i-T] for i in range(T, total_days)])\n",
    "monthly_changes"
   ]
  },
  {
   "cell_type": "code",
   "execution_count": 20,
   "metadata": {},
   "outputs": [
    {
     "name": "stdout",
     "output_type": "stream",
     "text": [
      "[1, 1.05, 1.1, 1.1500000000000001, 1.2000000000000002, 1.2500000000000002, 1.3000000000000003]\n",
      "[0.05 0.05 0.05 0.05 0.05 0.05]\n",
      "[0.25]\n"
     ]
    }
   ],
   "source": [
    "total_days = 6\n",
    "daily_returns = [0.05]*total_days\n",
    "prices2 = [1]\n",
    "for daily_return in daily_returns:\n",
    "    prices2.append(prices2[-1] + daily_return)\n",
    "print(prices2)\n",
    "daily_changes = np.diff(prices)\n",
    "print(daily_changes)\n",
    "monthly_changes = np.array([prices[i] - prices[i-T] for i in range(T, total_days)])\n",
    "print(monthly_changes)"
   ]
  },
  {
   "cell_type": "code",
   "execution_count": 22,
   "metadata": {},
   "outputs": [
    {
     "name": "stdout",
     "output_type": "stream",
     "text": [
      "[0.06250000000000001]\n",
      "[0.0625]\n"
     ]
    }
   ],
   "source": [
    "decomposed_D2_t = []\n",
    "for t in range(T, total_days):\n",
    "    sum1 = 0\n",
    "    sum2 = 0\n",
    "    for u in range(0, T):\n",
    "        sum1 += daily_changes[t-u]**2\n",
    "        sum2 += (prices[t-u-1] - prices[t-T]) * daily_changes[t-u]\n",
    "    decomposed_D2_t.append(sum1 + 2*sum2)\n",
    "print(decomposed_D2_t)\n",
    "print(monthly_changes**2)"
   ]
  },
  {
   "cell_type": "code",
   "execution_count": 6,
   "metadata": {},
   "outputs": [
    {
     "name": "stdout",
     "output_type": "stream",
     "text": [
      "[0.015625000000000007]\n",
      "[0.015625]\n"
     ]
    }
   ],
   "source": [
    "decomposed_D3_t = []\n",
    "for t in range(T, total_days):\n",
    "    sum1 = 0\n",
    "    sum2 = 0\n",
    "    sum3 = 0\n",
    "    for u in range(0, T):\n",
    "        sum1 += daily_changes[t-u]**3\n",
    "        sum2 += (prices[t-u-1] - prices[t-T]) * daily_changes[t-u]**2\n",
    "        sum3 += (prices[t-u-1] - prices[t-T])**2 * daily_changes[t-u]\n",
    "    decomposed_D3_t.append(sum1 + 3*sum2 + 3*sum3)\n",
    "print(decomposed_D3_t)\n",
    "print(monthly_changes**3)"
   ]
  },
  {
   "cell_type": "code",
   "execution_count": 7,
   "metadata": {},
   "outputs": [
    {
     "name": "stdout",
     "output_type": "stream",
     "text": [
      "[0.003906250000000002]\n",
      "[0.00390625]\n"
     ]
    }
   ],
   "source": [
    "decomposed_D4_t = []\n",
    "for t in range(T, total_days):\n",
    "    sum1 = 0\n",
    "    sum2 = 0\n",
    "    sum3 = 0\n",
    "    sum4 = 0\n",
    "    for u in range(0, T):\n",
    "        sum1 += daily_changes[t-u]**4\n",
    "        sum2 += (prices[t-u-1] - prices[t-T]) * daily_changes[t-u]**3\n",
    "        sum3 += (prices[t-u-1] - prices[t-T])**2 * daily_changes[t-u]**2\n",
    "        sum4 += (prices[t-u-1] - prices[t-T])**3 * daily_changes[t-u]\n",
    "    decomposed_D4_t.append(sum1 + 4*sum2 + 6*sum3 + 4*sum4)\n",
    "print(decomposed_D4_t)\n",
    "print(monthly_changes**4)"
   ]
  }
 ],
 "metadata": {
  "kernelspec": {
   "display_name": "Python 3",
   "language": "python",
   "name": "python3"
  },
  "language_info": {
   "codemirror_mode": {
    "name": "ipython",
    "version": 3
   },
   "file_extension": ".py",
   "mimetype": "text/x-python",
   "name": "python",
   "nbconvert_exporter": "python",
   "pygments_lexer": "ipython3",
   "version": "3.11.2"
  }
 },
 "nbformat": 4,
 "nbformat_minor": 2
}
